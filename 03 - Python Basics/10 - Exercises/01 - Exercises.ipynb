{
 "cells": [
  {
   "cell_type": "markdown",
   "metadata": {},
   "source": [
    "### Exercises"
   ]
  },
  {
   "cell_type": "markdown",
   "metadata": {},
   "source": [
    "### Exercise 1"
   ]
  },
  {
   "cell_type": "markdown",
   "metadata": {},
   "source": [
    "Given two floats `a` and `b`, and some tolerance `tol`, write an expression that will test whether `a` and `b` are within `tol` of each other."
   ]
  },
  {
   "cell_type": "code",
   "execution_count": 69,
   "metadata": {},
   "outputs": [],
   "source": [
    "\n",
    "class test_1:\n",
    "    def __init__(self, a:float, tol:int):\n",
    "        self.a = float(a)\n",
    "        self.tol = int(tol)\n",
    "\n",
    "    def __chk__(self,b:float) -> bool:\n",
    "        if abs(self.a - float(b)) < self.tol:\n",
    "            return True\n",
    "        else:\n",
    "            return False"
   ]
  },
  {
   "cell_type": "code",
   "execution_count": 76,
   "metadata": {},
   "outputs": [
    {
     "name": "stdout",
     "output_type": "stream",
     "text": [
      "<class 'float'>\n",
      "5.45\n",
      "<class 'int'>\n",
      "3\n",
      "False\n"
     ]
    }
   ],
   "source": [
    "#a = 5\n",
    "#b = 3\n",
    "#tol = 2\n",
    "#abs(float(a) - float(b)) < int(tol)\n",
    "abs(float(5)-float(2))<int(3)\n",
    "\n",
    "\n",
    "v = test_1(5.45,3.1)\n",
    "print(type(v.a))\n",
    "print(v.a)\n",
    "print(type(v.tol))\n",
    "print(v.tol)\n",
    "print(v.__chk__(2))"
   ]
  },
  {
   "cell_type": "markdown",
   "metadata": {},
   "source": [
    "### Exercise 2"
   ]
  },
  {
   "cell_type": "markdown",
   "metadata": {},
   "source": [
    "Assume you have some variable `elapsed` that contains elapsed time in seconds."
   ]
  },
  {
   "cell_type": "markdown",
   "metadata": {},
   "source": [
    "Create three new variables: `hours`, `minutes` and `seconds`, that represent the number of hours, minutes and seconds represented by `elapsed`."
   ]
  },
  {
   "cell_type": "markdown",
   "metadata": {},
   "source": [
    "For example, if `elapsed = 7835`, then `hours = 2`, `minutes = 10` and `seconds = 35`"
   ]
  },
  {
   "cell_type": "code",
   "execution_count": 55,
   "metadata": {},
   "outputs": [
    {
     "name": "stdout",
     "output_type": "stream",
     "text": [
      "0.0 7.0 32.19999999999999\n"
     ]
    }
   ],
   "source": [
    "\n",
    "elapsed = 452.2\n",
    "elapsed_hours = (elapsed // 60) // 60\n",
    "elapsed_minutes = (elapsed // 60) % 60\n",
    "elapsed_seconds = (elapsed % 60) % 60\n",
    "\n",
    "print(elapsed_hours, elapsed_minutes, elapsed_seconds)"
   ]
  }
 ],
 "metadata": {
  "kernelspec": {
   "display_name": "Python 3 (ipykernel)",
   "language": "python",
   "name": "python3"
  },
  "language_info": {
   "codemirror_mode": {
    "name": "ipython",
    "version": 3
   },
   "file_extension": ".py",
   "mimetype": "text/x-python",
   "name": "python",
   "nbconvert_exporter": "python",
   "pygments_lexer": "ipython3",
   "version": "3.13.1"
  }
 },
 "nbformat": 4,
 "nbformat_minor": 4
}
